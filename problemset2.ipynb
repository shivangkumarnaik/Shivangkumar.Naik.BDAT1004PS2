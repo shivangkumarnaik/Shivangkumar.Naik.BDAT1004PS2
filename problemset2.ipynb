{
 "cells": [
  {
   "cell_type": "markdown",
   "id": "29056a3a",
   "metadata": {},
   "source": [
    "### ANSWER 1\n"
   ]
  },
  {
   "cell_type": "code",
   "execution_count": 2,
   "id": "79cf5216",
   "metadata": {},
   "outputs": [],
   "source": [
    "a = 0\n",
    "def b():\n",
    "    global a\n",
    "    a = c(a)\n",
    "    print(a)\n",
    "def c(a):\n",
    "    return a+2"
   ]
  },
  {
   "cell_type": "code",
   "execution_count": 3,
   "id": "351ad316",
   "metadata": {},
   "outputs": [
    {
     "name": "stdout",
     "output_type": "stream",
     "text": [
      "2\n",
      "4\n",
      "6\n"
     ]
    }
   ],
   "source": [
    "b()\n",
    "b()\n",
    "b()"
   ]
  },
  {
   "cell_type": "code",
   "execution_count": 4,
   "id": "ed6963dd",
   "metadata": {},
   "outputs": [
    {
     "data": {
      "text/plain": [
       "6"
      ]
     },
     "execution_count": 4,
     "metadata": {},
     "output_type": "execute_result"
    }
   ],
   "source": [
    "a"
   ]
  },
  {
   "cell_type": "markdown",
   "id": "d3a77f99",
   "metadata": {},
   "source": [
    "Every time function b() is executed it access global variable \"a\" and \"a\" is assigned to function \"c\" which passes value of a into c(a), \n",
    "\n",
    "\n",
    "#### b( ) executed first time:\n",
    "when we executed b() for the first time: a was 0, then in function a was assigned to function c(a) passing value of a which was 0 and then after c(a) returned value a+2 which was 0+2 so first output was 2\n",
    "\n",
    "#### b( ) executed second time:\n",
    "when we executed b() for the second time: a was 2, then in function a was assigned to function c(a) passing value of a which was 2 and then after c(a) returned value a+2 which was 2+2 so first output was 4\n",
    "\n",
    "#### b( ) executed third time:\n",
    "when we executed b() for the second time: a was 4, then in function a was assigned to function c(a) passing value of a which was 4 and then after c(a) returned value a+2 which was 4+2 so first output was 6\n",
    "\n",
    "\n",
    "In every execution global variable \"a\" is being changed, and when we execute \"a\" at end, it returns value 6."
   ]
  },
  {
   "cell_type": "markdown",
   "id": "8e1b29d1",
   "metadata": {},
   "source": [
    "### ANSWER 2"
   ]
  },
  {
   "cell_type": "code",
   "execution_count": 14,
   "id": "ec4ea6fb",
   "metadata": {},
   "outputs": [],
   "source": [
    "def FILE_LENGTH(file_name):\n",
    "    try:\n",
    "        file_details = open(file_name)\n",
    "        info = file_details.read()\n",
    "        file_details.close()\n",
    "        print(len(info))\n",
    "    except: print(f\"File {file_name} not found!\")"
   ]
  },
  {
   "cell_type": "code",
   "execution_count": 15,
   "id": "3a12006d",
   "metadata": {},
   "outputs": [
    {
     "name": "stdout",
     "output_type": "stream",
     "text": [
      "24\n"
     ]
    }
   ],
   "source": [
    "FILE_LENGTH(\"document.txt\")"
   ]
  },
  {
   "cell_type": "code",
   "execution_count": 16,
   "id": "27e64721",
   "metadata": {},
   "outputs": [
    {
     "name": "stdout",
     "output_type": "stream",
     "text": [
      "File document123.txt not found!\n"
     ]
    }
   ],
   "source": [
    "FILE_LENGTH(\"document123.txt\")"
   ]
  },
  {
   "cell_type": "markdown",
   "id": "e8912c47",
   "metadata": {},
   "source": [
    "### ANSWER 3"
   ]
  },
  {
   "cell_type": "code",
   "execution_count": 26,
   "id": "742dc2f4",
   "metadata": {},
   "outputs": [],
   "source": [
    "info = []\n",
    "a = 0\n",
    "b = 0\n",
    "class Marsupial():\n",
    "    \n",
    "    def put_in_pouch(self,user_input):\n",
    "        info.append(user_input)\n",
    "    \n",
    "    def pouch_contents(self):\n",
    "        print(info)\n",
    "        \n",
    "class Kangaroo(Marsupial):\n",
    "    def __init__(self,a,b):\n",
    "        Marsupial.__init__(self)\n",
    "        \n",
    "    def __str__(self):\n",
    "        return(f\"I am a Kangaroo located at coordinates({a},{b})\")\n",
    "    \n",
    "    def jump(self,xcor,ycor):\n",
    "        global a\n",
    "        global b\n",
    "        a +=xcor\n",
    "        b +=ycor"
   ]
  },
  {
   "cell_type": "code",
   "execution_count": 27,
   "id": "ba1b869f",
   "metadata": {},
   "outputs": [
    {
     "name": "stdout",
     "output_type": "stream",
     "text": [
      "['doll', 'firetruck', 'kitten']\n"
     ]
    }
   ],
   "source": [
    "result = Marsupial()\n",
    "result.put_in_pouch(\"doll\")\n",
    "result.put_in_pouch(\"firetruck\")\n",
    "result.put_in_pouch(\"kitten\")\n",
    "result.pouch_contents()"
   ]
  },
  {
   "cell_type": "code",
   "execution_count": 28,
   "id": "03c5b761",
   "metadata": {},
   "outputs": [
    {
     "name": "stdout",
     "output_type": "stream",
     "text": [
      "I am a Kangaroo located at coordinates(0,0)\n",
      "['doll', 'firetruck', 'kitten', 'doll', 'firetruck', 'kitten']\n",
      "I am a Kangaroo located at coordinates(3,0)\n"
     ]
    }
   ],
   "source": [
    "k= Kangaroo(0,0)\n",
    "print(k)\n",
    "k.put_in_pouch(\"doll\")\n",
    "k.put_in_pouch(\"firetruck\")\n",
    "k.put_in_pouch(\"kitten\")\n",
    "k.pouch_contents()\n",
    "\n",
    "k.jump(1,0)\n",
    "k.jump(1,0)\n",
    "k.jump(1,0)\n",
    "print(k)"
   ]
  },
  {
   "cell_type": "markdown",
   "id": "787e62c2",
   "metadata": {},
   "source": [
    "### ANSWER 4"
   ]
  },
  {
   "cell_type": "code",
   "execution_count": 30,
   "id": "146e1db7",
   "metadata": {},
   "outputs": [
    {
     "name": "stdout",
     "output_type": "stream",
     "text": [
      "Type:10\n",
      "10\n",
      "5\n",
      "16\n",
      "8\n",
      "4\n",
      "2\n",
      "1\n"
     ]
    }
   ],
   "source": [
    "import math\n",
    "put = int(input(\"Type:\"))\n",
    "\n",
    "def collatz(put):\n",
    "    print(math.trunc(put))\n",
    "    if put == 1:\n",
    "        pass\n",
    "    elif put % 2 == 0:\n",
    "        collatz(put/2)\n",
    "    elif put %2 != 0:\n",
    "        collatz((3 * put)+1)\n",
    "        \n",
    "\n",
    "collatz(put)"
   ]
  },
  {
   "cell_type": "markdown",
   "id": "9c2c2d8c",
   "metadata": {},
   "source": [
    "### ANSWER 5"
   ]
  },
  {
   "cell_type": "code",
   "execution_count": 31,
   "id": "47afa4b9",
   "metadata": {},
   "outputs": [],
   "source": [
    "def binary(num):\n",
    "    if num < 2:\n",
    "        print (math.trunc(num), end = '')\n",
    "    else:\n",
    "        binary(num/2)\n",
    "        print (math.trunc(num%2), end = '')\n"
   ]
  },
  {
   "cell_type": "code",
   "execution_count": 32,
   "id": "4434b46e",
   "metadata": {},
   "outputs": [
    {
     "name": "stdout",
     "output_type": "stream",
     "text": [
      "0"
     ]
    }
   ],
   "source": [
    "binary(0)"
   ]
  },
  {
   "cell_type": "code",
   "execution_count": 33,
   "id": "65cfc8c8",
   "metadata": {},
   "outputs": [
    {
     "name": "stdout",
     "output_type": "stream",
     "text": [
      "1"
     ]
    }
   ],
   "source": [
    "binary(1)"
   ]
  },
  {
   "cell_type": "code",
   "execution_count": 34,
   "id": "13ebd7b5",
   "metadata": {},
   "outputs": [
    {
     "name": "stdout",
     "output_type": "stream",
     "text": [
      "11"
     ]
    }
   ],
   "source": [
    "binary(3)"
   ]
  },
  {
   "cell_type": "code",
   "execution_count": 35,
   "id": "d2dac0e1",
   "metadata": {},
   "outputs": [
    {
     "name": "stdout",
     "output_type": "stream",
     "text": [
      "1001"
     ]
    }
   ],
   "source": [
    "binary(9)"
   ]
  },
  {
   "cell_type": "markdown",
   "id": "8636875c",
   "metadata": {},
   "source": [
    "### ANSWER 6"
   ]
  },
  {
   "cell_type": "code",
   "execution_count": 53,
   "id": "240f0e34",
   "metadata": {},
   "outputs": [],
   "source": [
    "from html.parser import HTMLParser\n",
    "\n",
    "class HeadingParser(HTMLParser):\n",
    "    variable = False\n",
    "    def __init__(self):\n",
    "        HTMLParser.__init__(self)\n",
    "\n",
    "    def handle_starttag(self,var,attrs):\n",
    "        if var == \"h1\":\n",
    "            self.variable = True\n",
    "        elif var == \"h2\":\n",
    "            self.variable = True\n",
    "    \n",
    "    def handle_data(self,data):\n",
    "        if self.variable:\n",
    "            print(data, end = \"  \")\n",
    "        \n",
    "    "
   ]
  },
  {
   "cell_type": "code",
   "execution_count": 55,
   "id": "326b85d4",
   "metadata": {},
   "outputs": [
    {
     "name": "stdout",
     "output_type": "stream",
     "text": [
      "W3C Mission  \n",
      "\t  Principles  \n",
      " \n",
      "\n",
      "\n",
      "  \n",
      "  "
     ]
    }
   ],
   "source": [
    "\n",
    "\n",
    "infile = open('w3c.html')\n",
    "content = infile.read()\n",
    "infile.close()\n",
    "hp = HeadingParser()\n",
    "hp.feed(content)\n",
    "\n",
    "for var in range(1,tags):\n",
    "    if tags[var] == \"h1\":\n",
    "        print(tags_data[var-1])\n",
    "    if tags[var] == \"h2\":\n",
    "        print(f\"  {tags_data[var]}\")\n",
    "        \n",
    "        \n",
    "        "
   ]
  },
  {
   "cell_type": "markdown",
   "id": "663fab22",
   "metadata": {},
   "source": [
    "### ANSWER 7"
   ]
  },
  {
   "cell_type": "code",
   "execution_count": 1,
   "id": "ab9e3c42",
   "metadata": {},
   "outputs": [],
   "source": [
    "from urllib.parse import urljoin \n",
    "from urllib.request import urlopen\n",
    "from html.parser import HTMLParser\n",
    "\n",
    "class Collector(HTMLParser):\n",
    "\n",
    "  def __init__(self,url):\n",
    "    super().__init__()\n",
    "    self.url = url\n",
    "    self.links = []\n",
    "        \n",
    "  def handle_starttag(self, tag, attrs):\n",
    "    if tag == 'a':\n",
    "      for attr in attrs:\n",
    "        if attr[0] == 'href':\n",
    "          abs = urljoin(self.url, attr[1])\n",
    "          if abs[:4] == 'http':\n",
    "            self.links.append(abs)\n",
    "                        \n",
    "  def getLinks(self):\n",
    "    return self.links\n",
    "    \n"
   ]
  },
  {
   "cell_type": "code",
   "execution_count": null,
   "id": "add8a364",
   "metadata": {},
   "outputs": [],
   "source": [
    "def webdir(url, depth, indent):\n",
    "  if depth < 0:\n",
    "    pass\n",
    "    \n",
    "  print(\"\\t\"*indent + url)\n",
    "  res = urlopen(url)\n",
    "  con = res.read().decode()\n",
    "  coll = Collector(url)\n",
    "  coll.feed(con)\n",
    "  links = coll.getLinks()   \n",
    "    \n",
    "  for link in links:\n",
    "    webdir(link, depth-1, indent+1)"
   ]
  },
  {
   "cell_type": "code",
   "execution_count": 2,
   "id": "fbbb02cc",
   "metadata": {},
   "outputs": [
    {
     "name": "stdout",
     "output_type": "stream",
     "text": [
      "Please type URL: http://reed.cs.depaul.edu/lperkovic/test1.html\n",
      "Please provide depth: 2\n",
      "Please provide indent: 0\n",
      "http://reed.cs.depaul.edu/lperkovic/test1.html\n",
      "\thttp://reed.cs.depaul.edu/lperkovic/test2.html\n",
      "\t\thttp://reed.cs.depaul.edu/lperkovic/test4.html\n",
      "\thttp://reed.cs.depaul.edu/lperkovic/test3.html\n",
      "\t\thttp://reed.cs.depaul.edu/lperkovic/test4.html\n"
     ]
    }
   ],
   "source": [
    "url = input(\"Please type URL: \")\n",
    "depth = int(input(\"Please provide depth: \"))\n",
    "indent = int(input(\"Please provide indent: \"))\n",
    "\n",
    "webdir(url, depth, indent)"
   ]
  },
  {
   "cell_type": "markdown",
   "id": "47975124",
   "metadata": {},
   "source": [
    "### ANSWER 8"
   ]
  },
  {
   "cell_type": "markdown",
   "id": "6ffeb91b",
   "metadata": {},
   "source": [
    "a) SELECT * FROM temprature; \n",
    "\n",
    "b) SELECT DISTINT cities from temprature;\n",
    "\n",
    "c) SELECT * from temprature WHERE country = 'India';\n",
    "\n",
    "d) select * from temprature where season = 'Fall';\n",
    "\n",
    "e) select city, country, season from temprature where rainfall BETWEEN 200 AND 400;\n",
    "\n",
    "f) SELECT city, country from temprature where season = 'Fall' AND temprature > 20 ORDER BY temprature;\n",
    "\n",
    "g) select SUM(rainfall) from temprature where country = 'Cairo';\n",
    "\n",
    "h) select season ,SUM(rainfall) from temprature GROUP BY SEASON;\n"
   ]
  },
  {
   "cell_type": "markdown",
   "id": "e2b4ae08",
   "metadata": {},
   "source": []
  },
  {
   "cell_type": "markdown",
   "id": "eee4182e",
   "metadata": {},
   "source": [
    "### ANSWER 9"
   ]
  },
  {
   "cell_type": "code",
   "execution_count": 106,
   "id": "663e7469",
   "metadata": {},
   "outputs": [
    {
     "name": "stdout",
     "output_type": "stream",
     "text": [
      "A) ['THE', 'QUICK', 'BROWN', 'FOX', 'JUMPS', 'OVER', 'THE', 'LAZY', 'DOG']\n",
      "B) ['the', 'quick', 'brown', 'fox', 'jumps', 'over', 'the', 'lazy', 'dog']\n",
      "C) [3, 5, 5, 3, 5, 4, 3, 4, 3]\n",
      "D) [['THE', 'the', 3], ['QUICK', 'quick', 5], ['BROWN', 'brown', 5], ['FOX', 'fox', 3], ['JUMPS', 'jumps', 5], ['OVER', 'over', 4], ['THE', 'the', 3], ['LAZY', 'lazy', 4], ['DOG', 'dog', 3]]\n",
      "E) ['quick', 'brown', 'jumps', 'over', 'lazy']\n"
     ]
    }
   ],
   "source": [
    "words = ['The','quick','brown','fox','jumps','over','the','lazy','dog']\n",
    "upper = []\n",
    "lower = []\n",
    "total_length = []\n",
    "all_list = []\n",
    "new=[]\n",
    "\n",
    "for word in words:\n",
    "    upper.append(word.upper())\n",
    "print(\"A)\", upper)\n",
    "\n",
    "for word in words:\n",
    "    lower.append(word.lower())\n",
    "print(\"B)\", lower)\n",
    "    \n",
    "\n",
    "for word in words:\n",
    "    count_word = len(word)\n",
    "    total_length.append(count_word)\n",
    "print(\"C)\" ,total_length)\n",
    "\n",
    "\n",
    "for word in words:\n",
    "    capital = word.upper()\n",
    "    small = word.lower()\n",
    "    count = len(word)\n",
    "    all_list.append([capital,small,count])\n",
    "print(\"D)\", all_list)\n",
    "    \n",
    "\n",
    "for word in words:\n",
    "    if len(word)>=4:\n",
    "        new.append(word)\n",
    "print(\"E)\" ,new)\n",
    "        "
   ]
  },
  {
   "cell_type": "code",
   "execution_count": null,
   "id": "eccd1008",
   "metadata": {},
   "outputs": [],
   "source": []
  }
 ],
 "metadata": {
  "kernelspec": {
   "display_name": "Python 3 (ipykernel)",
   "language": "python",
   "name": "python3"
  },
  "language_info": {
   "codemirror_mode": {
    "name": "ipython",
    "version": 3
   },
   "file_extension": ".py",
   "mimetype": "text/x-python",
   "name": "python",
   "nbconvert_exporter": "python",
   "pygments_lexer": "ipython3",
   "version": "3.9.13"
  }
 },
 "nbformat": 4,
 "nbformat_minor": 5
}
